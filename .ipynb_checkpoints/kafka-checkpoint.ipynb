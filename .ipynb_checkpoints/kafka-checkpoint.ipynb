{
 "cells": [
  {
   "cell_type": "markdown",
   "metadata": {},
   "source": [
    "### First change server.properties & zookeeper.properties log & data path"
   ]
  },
  {
   "cell_type": "markdown",
   "metadata": {},
   "source": [
    "### Zookeeper Run Code: .\\bin\\windows\\zookeeper-server-start.bat .\\config\\zookeeper.properties"
   ]
  },
  {
   "cell_type": "markdown",
   "metadata": {},
   "source": [
    "### Kafka Server Code: .\\bin\\windows\\kafka-server-start.bat .\\config\\server.properties"
   ]
  },
  {
   "cell_type": "markdown",
   "metadata": {},
   "source": [
    "### Create Topic:"
   ]
  },
  {
   "cell_type": "markdown",
   "metadata": {},
   "source": [
    "```\n",
    ".\\bin\\windows\\kafka-topics.bat --create --zookeeper localhost:2181 --replication-factor 1 --partitions 1 --topic test\n",
    "\n",
    "or\n",
    "\n",
    ".\\bin\\windows\\kafka-topics.bat --create --bootstrap-server localhost:9092 --replication-factor 1 --partitions 1 --topic test\n",
    "```"
   ]
  },
  {
   "cell_type": "markdown",
   "metadata": {},
   "source": [
    "### List All Topics"
   ]
  },
  {
   "cell_type": "markdown",
   "metadata": {},
   "source": [
    "```\n",
    ".\\bin\\windows\\kafka-topics.bat --zookeeper localhost:2181 --list\n",
    "```\n",
    "> or use --bootstrap-server localhost:9092\n"
   ]
  },
  {
   "cell_type": "markdown",
   "metadata": {},
   "source": [
    "### For more than 1 partition:"
   ]
  },
  {
   "cell_type": "markdown",
   "metadata": {},
   "source": [
    "1- messages will be published to partitions randomly, unless specified the partition number.\n"
   ]
  },
  {
   "cell_type": "markdown",
   "metadata": {},
   "source": [
    "2- messages will be consumed round robin "
   ]
  },
  {
   "cell_type": "markdown",
   "metadata": {},
   "source": [
    "### For 1 Partition Multiple Consumer "
   ]
  },
  {
   "cell_type": "markdown",
   "metadata": {},
   "source": [
    "Same Partition can't be assigned to multiple consumer of the same group."
   ]
  },
  {
   "cell_type": "markdown",
   "metadata": {},
   "source": [
    "## Important"
   ]
  },
  {
   "cell_type": "markdown",
   "metadata": {},
   "source": [
    "- auto_offset_reset :\n",
    "1. earliest = to read all uncomitted messages\n",
    "2. latest = to read messages which are sent after the consumer starts\n",
    "\n",
    "- either use enable_auto_commit = True or manually do consumer.commit() after reading every message\n",
    "- To determine to which partition data should go, use partition parameter in producer.send()\n",
    "- use KafkaProducer() with value_serializer, as json.dumps()\n",
    "- When group_id is None & auto_offset_reset = 'earliest', then every time when we run consumer it will read all the available messages"
   ]
  },
  {
   "cell_type": "markdown",
   "metadata": {},
   "source": [
    "#### Producer Syntax:\n",
    "\n",
    "- producer=KafkaProducer(bootstrap_servers=['localhost:9092'],value_serializer=json.dumps(data).encode('utf-8'))\n",
    "- producer.send(topic=topic,value=data,partition=partition)\"\n"
   ]
  },
  {
   "cell_type": "markdown",
   "metadata": {},
   "source": [
    "#### Consumer Syntax:\n",
    "##### Consumer reading all data of topic, not a particular partition\n",
    "- consumer = KafkaConsumer(\n",
    "    topic_name,\n",
    "    bootstrap_servers=['localhost:9092'],\n",
    "    auto_offset_reset='earliest',\n",
    "    group_id=group_id)\n",
    "    \n",
    "##### Consumer reading all data of topic, not a particular partition\n",
    "- consumer = KafkaConsumer(\n",
    "    bootstrap_servers=['localhost:9092'],\n",
    "    auto_offset_reset='earliest',\n",
    "    group_id=group_id)\n",
    "\n",
    "- consumer.assign([TopicPartition(topic,partition)]) # assign consumer to a particular topic partition\n",
    "\n"
   ]
  },
  {
   "cell_type": "code",
   "execution_count": null,
   "metadata": {},
   "outputs": [],
   "source": []
  },
  {
   "cell_type": "code",
   "execution_count": 2,
   "metadata": {},
   "outputs": [],
   "source": [
    "from kafka import KafkaProducer\n",
    "from kafka import KafkaConsumer\n",
    "\n",
    "from faker import Faker\n",
    "import json,time"
   ]
  },
  {
   "cell_type": "code",
   "execution_count": 3,
   "metadata": {},
   "outputs": [],
   "source": [
    "def get_fake_data():\n",
    "    fake=Faker()\n",
    "    return{\n",
    "        'name':fake.name(),\n",
    "        'address':fake.address(),\n",
    "        'D.O.Y':fake.year()\n",
    "    }"
   ]
  },
  {
   "cell_type": "code",
   "execution_count": 4,
   "metadata": {},
   "outputs": [],
   "source": [
    "def json_serializer(data):\n",
    "    return json.dumps(data).encode('utf-8')"
   ]
  },
  {
   "cell_type": "code",
   "execution_count": 5,
   "metadata": {},
   "outputs": [],
   "source": [
    "def produce_data(topic_name,n):\n",
    "    producer=KafkaProducer(bootstrap_servers=['localhost:9092'],value_serializer=json_serializer)\n",
    "    for i in range(n):\n",
    "        print(i)\n",
    "        fake_data=get_fake_data()\n",
    "        producer.send(topic_name,fake_data)\n",
    "        time.sleep(5)\n",
    "    producer.close()"
   ]
  },
  {
   "cell_type": "code",
   "execution_count": 8,
   "metadata": {},
   "outputs": [],
   "source": [
    "def consume_data(topic_name,group_id=None):\n",
    "    # auto_offset_reset -> where to start from, earliest means from begining\n",
    "    consumer=KafkaConsumer(\n",
    "    topic_name,\n",
    "    bootstrap_servers=['localhost:9092'],\n",
    "    auto_offset_reset='earliest',\n",
    "    group_id=group_id  )\n",
    "    print('Consumer Started..')\n",
    "    for data in consumer:\n",
    "        time.sleep(10)\n",
    "        print(f\"Data: {json.loads(data.value)}\")\n",
    "    consumer.close()"
   ]
  },
  {
   "cell_type": "code",
   "execution_count": null,
   "metadata": {},
   "outputs": [],
   "source": []
  }
 ],
 "metadata": {
  "kernelspec": {
   "display_name": "Python 3",
   "language": "python",
   "name": "python3"
  },
  "language_info": {
   "codemirror_mode": {
    "name": "ipython",
    "version": 3
   },
   "file_extension": ".py",
   "mimetype": "text/x-python",
   "name": "python",
   "nbconvert_exporter": "python",
   "pygments_lexer": "ipython3",
   "version": "3.7.3"
  }
 },
 "nbformat": 4,
 "nbformat_minor": 5
}
