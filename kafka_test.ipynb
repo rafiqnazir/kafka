{
 "cells": [
  {
   "cell_type": "code",
   "execution_count": 6,
   "id": "670bc9ae",
   "metadata": {},
   "outputs": [],
   "source": [
    "from kafka import KafkaProducer\n",
    "from kafka import KafkaConsumer\n",
    "\n",
    "from faker import Faker\n",
    "import json,time"
   ]
  },
  {
   "cell_type": "code",
   "execution_count": 7,
   "id": "3d4d9bf1",
   "metadata": {},
   "outputs": [],
   "source": [
    "def get_fake_data():\n",
    "    fake=Faker()\n",
    "    return{\n",
    "        'name':fake.name(),\n",
    "        'address':fake.address(),\n",
    "        'D.O.Y':fake.year()\n",
    "    }\n",
    "def json_serializer(data):\n",
    "    return json.dumps(data).encode('utf-8')"
   ]
  },
  {
   "cell_type": "code",
   "execution_count": null,
   "id": "34681850",
   "metadata": {},
   "outputs": [],
   "source": []
  },
  {
   "cell_type": "code",
   "execution_count": 14,
   "id": "336dfdd8",
   "metadata": {},
   "outputs": [],
   "source": [
    "def produce_data(topic_name,n):\n",
    "    producer=KafkaProducer(bootstrap_servers=['localhost:9092'],value_serializer=json_serializer)\n",
    "    for i in range(n):\n",
    "        print(i)\n",
    "        fake_data=get_fake_data()\n",
    "        print(fake_data)\n",
    "        producer.send(topic_name,fake_data)\n",
    "    producer.close()"
   ]
  },
  {
   "cell_type": "code",
   "execution_count": 15,
   "id": "8836a473",
   "metadata": {},
   "outputs": [
    {
     "name": "stdout",
     "output_type": "stream",
     "text": [
      "0\n",
      "{'name': 'Leslie Delgado', 'address': '8199 Michael Motorway\\nNew Rebecca, NV 47562', 'D.O.Y': '1998'}\n",
      "1\n",
      "{'name': 'Patricia Lopez', 'address': '9625 Jones Land\\nGeorgeside, KS 74537', 'D.O.Y': '2003'}\n",
      "2\n",
      "{'name': 'Tracey Bryant', 'address': 'Unit 6321 Box 0748\\nDPO AP 39148', 'D.O.Y': '1980'}\n"
     ]
    }
   ],
   "source": [
    "produce_data('test1',3)"
   ]
  },
  {
   "cell_type": "code",
   "execution_count": null,
   "id": "f276e99a",
   "metadata": {},
   "outputs": [],
   "source": []
  }
 ],
 "metadata": {
  "kernelspec": {
   "display_name": "Python 3 (ipykernel)",
   "language": "python",
   "name": "python3"
  },
  "language_info": {
   "codemirror_mode": {
    "name": "ipython",
    "version": 3
   },
   "file_extension": ".py",
   "mimetype": "text/x-python",
   "name": "python",
   "nbconvert_exporter": "python",
   "pygments_lexer": "ipython3",
   "version": "3.9.7"
  }
 },
 "nbformat": 4,
 "nbformat_minor": 5
}
